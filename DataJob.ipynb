{
 "cells": [
  {
   "cell_type": "code",
   "execution_count": 1,
   "metadata": {},
   "outputs": [],
   "source": [
    "# Dependencies\n",
    "import pandas as pd\n",
    "import numpy as np\n",
    "from sqlalchemy import create_engine\n",
    "import psycopg2\n"
   ]
  },
  {
   "cell_type": "code",
   "execution_count": 2,
   "metadata": {},
   "outputs": [
    {
     "output_type": "execute_result",
     "data": {
      "text/plain": [
       "aduate   \n",
       "2       No relevent experience    Full time course        Graduate   \n",
       "3       No relevent experience                 NaN        Graduate   \n",
       "4      Has relevent experience       no_enrollment         Masters   \n",
       "...                        ...                 ...             ...   \n",
       "19153   No relevent experience       no_enrollment        Graduate   \n",
       "19154  Has relevent experience       no_enrollment        Graduate   \n",
       "19155  Has relevent experience       no_enrollment        Graduate   \n",
       "19156  Has relevent experience       no_enrollment     High School   \n",
       "19157   No relevent experience       no_enrollment  Primary School   \n",
       "\n",
       "      major_discipline experience company_size    company_type last_new_job  \\\n",
       "0                 STEM        >20          NaN             NaN            1   \n",
       "1                 STEM         15        50-99         Pvt Ltd           >4   \n",
       "2                 STEM          5          NaN             NaN        never   \n",
       "3      Business Degree         <1          NaN         Pvt Ltd        never   \n",
       "4                 STEM        >20        50-99  Funded Startup            4   \n",
       "...                ...        ...          ...             ...          ...   \n",
       "19153       Humanities         14          NaN             NaN            1   \n",
       "19154             STEM         14          NaN             NaN            4   \n",
       "19155             STEM        >20        50-99         Pvt Ltd            4   \n",
       "19156              NaN         <1      500-999         Pvt Ltd            2   \n",
       "19157              NaN          2          NaN             NaN            1   \n",
       "\n",
       "       training_hours  target  \n",
       "0                  36     1.0  \n",
       "1                  47     0.0  \n",
       "2                  83     0.0  \n",
       "3                  52     1.0  \n",
       "4                   8     0.0  \n",
       "...               ...     ...  \n",
       "19153              42     1.0  \n",
       "19154              52     1.0  \n",
       "19155              44     0.0  \n",
       "19156              97     0.0  \n",
       "19157             127     0.0  \n",
       "\n",
       "[19158 rows x 14 columns]"
      ],
      "text/html": "<div>\n<style scoped>\n    .dataframe tbody tr th:only-of-type {\n        vertical-align: middle;\n    }\n\n    .dataframe tbody tr th {\n        vertical-align: top;\n    }\n\n    .dataframe thead th {\n        text-align: right;\n    }\n</style>\n<table border=\"1\" class=\"dataframe\">\n  <thead>\n    <tr style=\"text-align: right;\">\n      <th></th>\n      <th>enrollee_id</th>\n      <th>city</th>\n      <th>city_development_index</th>\n      <th>gender</th>\n      <th>relevent_experience</th>\n      <th>enrolled_university</th>\n      <th>education_level</th>\n      <th>major_discipline</th>\n      <th>experience</th>\n      <th>company_size</th>\n      <th>company_type</th>\n      <th>last_new_job</th>\n      <th>training_hours</th>\n      <th>target</th>\n    </tr>\n  </thead>\n  <tbody>\n    <tr>\n      <th>0</th>\n      <td>8949</td>\n      <td>city_103</td>\n      <td>0.920</td>\n      <td>Male</td>\n      <td>Has relevent experience</td>\n      <td>no_enrollment</td>\n      <td>Graduate</td>\n      <td>STEM</td>\n      <td>&gt;20</td>\n      <td>NaN</td>\n      <td>NaN</td>\n      <td>1</td>\n      <td>36</td>\n      <td>1.0</td>\n    </tr>\n    <tr>\n      <th>1</th>\n      <td>29725</td>\n      <td>city_40</td>\n      <td>0.776</td>\n      <td>Male</td>\n      <td>No relevent experience</td>\n      <td>no_enrollment</td>\n      <td>Graduate</td>\n      <td>STEM</td>\n      <td>15</td>\n      <td>50-99</td>\n      <td>Pvt Ltd</td>\n      <td>&gt;4</td>\n      <td>47</td>\n      <td>0.0</td>\n    </tr>\n    <tr>\n      <th>2</th>\n      <td>11561</td>\n      <td>city_21</td>\n      <td>0.624</td>\n      <td>NaN</td>\n      <td>No relevent experience</td>\n      <td>Full time course</td>\n      <td>Graduate</td>\n      <td>STEM</td>\n      <td>5</td>\n      <td>NaN</td>\n      <td>NaN</td>\n      <td>never</td>\n      <td>83</td>\n      <td>0.0</td>\n    </tr>\n    <tr>\n      <th>3</th>\n      <td>33241</td>\n      <td>city_115</td>\n      <td>0.789</td>\n      <td>NaN</td>\n      <td>No relevent experience</td>\n      <td>NaN</td>\n      <td>Graduate</td>\n      <td>Business Degree</td>\n      <td>&lt;1</td>\n      <td>NaN</td>\n      <td>Pvt Ltd</td>\n      <td>never</td>\n      <td>52</td>\n      <td>1.0</td>\n    </tr>\n    <tr>\n      <th>4</th>\n      <td>666</td>\n      <td>city_162</td>\n      <td>0.767</td>\n      <td>Male</td>\n      <td>Has relevent experience</td>\n      <td>no_enrollment</td>\n      <td>Masters</td>\n      <td>STEM</td>\n      <td>&gt;20</td>\n      <td>50-99</td>\n      <td>Funded Startup</td>\n      <td>4</td>\n      <td>8</td>\n      <td>0.0</td>\n    </tr>\n    <tr>\n      <th>...</th>\n      <td>...</td>\n      <td>...</td>\n      <td>...</td>\n      <td>...</td>\n      <td>...</td>\n      <td>...</td>\n      <td>...</td>\n      <td>...</td>\n      <td>...</td>\n      <td>...</td>\n      <td>...</td>\n      <td>...</td>\n      <td>...</td>\n      <td>...</td>\n    </tr>\n    <tr>\n      <th>19153</th>\n      <td>7386</td>\n      <td>city_173</td>\n      <td>0.878</td>\n      <td>Male</td>\n      <td>No relevent experience</td>\n      <td>no_enrollment</td>\n      <td>Graduate</td>\n      <td>Humanities</td>\n      <td>14</td>\n      <td>NaN</td>\n      <td>NaN</td>\n      <td>1</td>\n      <td>42</td>\n      <td>1.0</td>\n    </tr>\n    <tr>\n      <th>19154</th>\n      <td>31398</td>\n      <td>city_103</td>\n      <td>0.920</td>\n      <td>Male</td>\n      <td>Has relevent experience</td>\n      <td>no_enrollment</td>\n      <td>Graduate</td>\n      <td>STEM</td>\n      <td>14</td>\n      <td>NaN</td>\n      <td>NaN</td>\n      <td>4</td>\n      <td>52</td>\n      <td>1.0</td>\n    </tr>\n    <tr>\n      <th>19155</th>\n      <td>24576</td>\n      <td>city_103</td>\n      <td>0.920</td>\n      <td>Male</td>\n      <td>Has relevent experience</td>\n      <td>no_enrollment</td>\n      <td>Graduate</td>\n      <td>STEM</td>\n      <td>&gt;20</td>\n      <td>50-99</td>\n      <td>Pvt Ltd</td>\n      <td>4</td>\n      <td>44</td>\n      <td>0.0</td>\n    </tr>\n    <tr>\n      <th>19156</th>\n      <td>5756</td>\n      <td>city_65</td>\n      <td>0.802</td>\n      <td>Male</td>\n      <td>Has relevent experience</td>\n      <td>no_enrollment</td>\n      <td>High School</td>\n      <td>NaN</td>\n      <td>&lt;1</td>\n      <td>500-999</td>\n      <td>Pvt Ltd</td>\n      <td>2</td>\n      <td>97</td>\n      <td>0.0</td>\n    </tr>\n    <tr>\n      <th>19157</th>\n      <td>23834</td>\n      <td>city_67</td>\n      <td>0.855</td>\n      <td>NaN</td>\n      <td>No relevent experience</td>\n      <td>no_enrollment</td>\n      <td>Primary School</td>\n      <td>NaN</td>\n      <td>2</td>\n      <td>NaN</td>\n      <td>NaN</td>\n      <td>1</td>\n      <td>127</td>\n      <td>0.0</td>\n    </tr>\n  </tbody>\n</table>\n<p>19158 rows × 14 columns</p>\n</div>"
     },
     "metadata": {},
     "execution_count": 2
    }
   ],
   "source": [
    "# Read in Training Data\n",
    "training_data = \"data/Training.csv\"\n",
    "training_df = pd.read_csv(training_data)\n",
    "training_df"
   ]
  },
  {
   "cell_type": "code",
   "execution_count": 3,
   "metadata": {},
   "outputs": [
    {
     "output_type": "stream",
     "name": "stdout",
     "text": [
      "<class 'pandas.core.frame.DataFrame'>\nRangeIndex: 19158 entries, 0 to 19157\nData columns (total 14 columns):\n #   Column                  Non-Null Count  Dtype  \n---  ------                  --------------  -----  \n 0   enrollee_id             19158 non-null  int64  \n 1   city                    19158 non-null  object \n 2   city_development_index  19158 non-null  float64\n 3   gender                  14650 non-null  object \n 4   relevent_experience     19158 non-null  object \n 5   enrolled_university     18772 non-null  object \n 6   education_level         18698 non-null  object \n 7   major_discipline        16345 non-null  object \n 8   experience              19093 non-null  object \n 9   company_size            13220 non-null  object \n 10  company_type            13018 non-null  object \n 11  last_new_job            18735 non-null  object \n 12  training_hours          19158 non-null  int64  \n 13  target                  19158 non-null  float64\ndtypes: float64(2), int64(2), object(10)\nmemory usage: 2.0+ MB\n"
     ]
    }
   ],
   "source": [
    "# Check Training Data\n",
    "training_df.info()"
   ]
  },
  {
   "cell_type": "code",
   "execution_count": 4,
   "metadata": {},
   "outputs": [
    {
     "output_type": "execute_result",
     "data": {
      "text/plain": [
       "           0.920   Male  Has relevent experience   \n",
       "19156         5756                   0.802   Male  Has relevent experience   \n",
       "19157        23834                   0.855    NaN   No relevent experience   \n",
       "\n",
       "      enrolled_university education_level major_discipline experience  \\\n",
       "0           no_enrollment        Graduate             STEM        >20   \n",
       "1           no_enrollment        Graduate             STEM         15   \n",
       "2        Full time course        Graduate             STEM          5   \n",
       "3                     NaN        Graduate  Business Degree         <1   \n",
       "4           no_enrollment         Masters             STEM        >20   \n",
       "...                   ...             ...              ...        ...   \n",
       "19153       no_enrollment        Graduate       Humanities         14   \n",
       "19154       no_enrollment        Graduate             STEM         14   \n",
       "19155       no_enrollment        Graduate             STEM        >20   \n",
       "19156       no_enrollment     High School              NaN         <1   \n",
       "19157       no_enrollment  Primary School              NaN          2   \n",
       "\n",
       "      company_size    company_type last_new_job  training_hours  target  \n",
       "0              NaN             NaN            1              36     1.0  \n",
       "1            50-99         Pvt Ltd           >4              47     0.0  \n",
       "2              NaN             NaN        never              83     0.0  \n",
       "3              NaN         Pvt Ltd        never              52     1.0  \n",
       "4            50-99  Funded Startup            4               8     0.0  \n",
       "...            ...             ...          ...             ...     ...  \n",
       "19153          NaN             NaN            1              42     1.0  \n",
       "19154          NaN             NaN            4              52     1.0  \n",
       "19155        50-99         Pvt Ltd            4              44     0.0  \n",
       "19156      500-999         Pvt Ltd            2              97     0.0  \n",
       "19157          NaN             NaN            1             127     0.0  \n",
       "\n",
       "[19158 rows x 13 columns]"
      ],
      "text/html": "<div>\n<style scoped>\n    .dataframe tbody tr th:only-of-type {\n        vertical-align: middle;\n    }\n\n    .dataframe tbody tr th {\n        vertical-align: top;\n    }\n\n    .dataframe thead th {\n        text-align: right;\n    }\n</style>\n<table border=\"1\" class=\"dataframe\">\n  <thead>\n    <tr style=\"text-align: right;\">\n      <th></th>\n      <th>enrollee_id</th>\n      <th>city_development_index</th>\n      <th>gender</th>\n      <th>relevent_experience</th>\n      <th>enrolled_university</th>\n      <th>education_level</th>\n      <th>major_discipline</th>\n      <th>experience</th>\n      <th>company_size</th>\n      <th>company_type</th>\n      <th>last_new_job</th>\n      <th>training_hours</th>\n      <th>target</th>\n    </tr>\n  </thead>\n  <tbody>\n    <tr>\n      <th>0</th>\n      <td>8949</td>\n      <td>0.920</td>\n      <td>Male</td>\n      <td>Has relevent experience</td>\n      <td>no_enrollment</td>\n      <td>Graduate</td>\n      <td>STEM</td>\n      <td>&gt;20</td>\n      <td>NaN</td>\n      <td>NaN</td>\n      <td>1</td>\n      <td>36</td>\n      <td>1.0</td>\n    </tr>\n    <tr>\n      <th>1</th>\n      <td>29725</td>\n      <td>0.776</td>\n      <td>Male</td>\n      <td>No relevent experience</td>\n      <td>no_enrollment</td>\n      <td>Graduate</td>\n      <td>STEM</td>\n      <td>15</td>\n      <td>50-99</td>\n      <td>Pvt Ltd</td>\n      <td>&gt;4</td>\n      <td>47</td>\n      <td>0.0</td>\n    </tr>\n    <tr>\n      <th>2</th>\n      <td>11561</td>\n      <td>0.624</td>\n      <td>NaN</td>\n      <td>No relevent experience</td>\n      <td>Full time course</td>\n      <td>Graduate</td>\n      <td>STEM</td>\n      <td>5</td>\n      <td>NaN</td>\n      <td>NaN</td>\n      <td>never</td>\n      <td>83</td>\n      <td>0.0</td>\n    </tr>\n    <tr>\n      <th>3</th>\n      <td>33241</td>\n      <td>0.789</td>\n      <td>NaN</td>\n      <td>No relevent experience</td>\n      <td>NaN</td>\n      <td>Graduate</td>\n      <td>Business Degree</td>\n      <td>&lt;1</td>\n      <td>NaN</td>\n      <td>Pvt Ltd</td>\n      <td>never</td>\n      <td>52</td>\n      <td>1.0</td>\n    </tr>\n    <tr>\n      <th>4</th>\n      <td>666</td>\n      <td>0.767</td>\n      <td>Male</td>\n      <td>Has relevent experience</td>\n      <td>no_enrollment</td>\n      <td>Masters</td>\n      <td>STEM</td>\n      <td>&gt;20</td>\n      <td>50-99</td>\n      <td>Funded Startup</td>\n      <td>4</td>\n      <td>8</td>\n      <td>0.0</td>\n    </tr>\n    <tr>\n      <th>...</th>\n      <td>...</td>\n      <td>...</td>\n      <td>...</td>\n      <td>...</td>\n      <td>...</td>\n      <td>...</td>\n      <td>...</td>\n      <td>...</td>\n      <td>...</td>\n      <td>...</td>\n      <td>...</td>\n      <td>...</td>\n      <td>...</td>\n    </tr>\n    <tr>\n      <th>19153</th>\n      <td>7386</td>\n      <td>0.878</td>\n      <td>Male</td>\n      <td>No relevent experience</td>\n      <td>no_enrollment</td>\n      <td>Graduate</td>\n      <td>Humanities</td>\n      <td>14</td>\n      <td>NaN</td>\n      <td>NaN</td>\n      <td>1</td>\n      <td>42</td>\n      <td>1.0</td>\n    </tr>\n    <tr>\n      <th>19154</th>\n      <td>31398</td>\n      <td>0.920</td>\n      <td>Male</td>\n      <td>Has relevent experience</td>\n      <td>no_enrollment</td>\n      <td>Graduate</td>\n      <td>STEM</td>\n      <td>14</td>\n      <td>NaN</td>\n      <td>NaN</td>\n      <td>4</td>\n      <td>52</td>\n      <td>1.0</td>\n    </tr>\n    <tr>\n      <th>19155</th>\n      <td>24576</td>\n      <td>0.920</td>\n      <td>Male</td>\n      <td>Has relevent experience</td>\n      <td>no_enrollment</td>\n      <td>Graduate</td>\n      <td>STEM</td>\n      <td>&gt;20</td>\n      <td>50-99</td>\n      <td>Pvt Ltd</td>\n      <td>4</td>\n      <td>44</td>\n      <td>0.0</td>\n    </tr>\n    <tr>\n      <th>19156</th>\n      <td>5756</td>\n      <td>0.802</td>\n      <td>Male</td>\n      <td>Has relevent experience</td>\n      <td>no_enrollment</td>\n      <td>High School</td>\n      <td>NaN</td>\n      <td>&lt;1</td>\n      <td>500-999</td>\n      <td>Pvt Ltd</td>\n      <td>2</td>\n      <td>97</td>\n      <td>0.0</td>\n    </tr>\n    <tr>\n      <th>19157</th>\n      <td>23834</td>\n      <td>0.855</td>\n      <td>NaN</td>\n      <td>No relevent experience</td>\n      <td>no_enrollment</td>\n      <td>Primary School</td>\n      <td>NaN</td>\n      <td>2</td>\n      <td>NaN</td>\n      <td>NaN</td>\n      <td>1</td>\n      <td>127</td>\n      <td>0.0</td>\n    </tr>\n  </tbody>\n</table>\n<p>19158 rows × 13 columns</p>\n</div>"
     },
     "metadata": {},
     "execution_count": 4
    }
   ],
   "source": [
    "# Remove City Column\n",
    "training_df.drop('city', axis = 'columns', inplace=True)\n",
    "training_df"
   ]
  },
  {
   "cell_type": "code",
   "execution_count": 5,
   "metadata": {},
   "outputs": [
    {
     "output_type": "stream",
     "name": "stdout",
     "text": [
      "<class 'pandas.core.frame.DataFrame'>\nRangeIndex: 19158 entries, 0 to 19157\nData columns (total 13 columns):\n #   Column                  Non-Null Count  Dtype  \n---  ------                  --------------  -----  \n 0   enrollee_id             19158 non-null  int64  \n 1   city_development_index  19158 non-null  float64\n 2   gender                  14650 non-null  object \n 3   relevent_experience     19158 non-null  object \n 4   enrolled_university     18772 non-null  object \n 5   education_level         18698 non-null  object \n 6   major_discipline        16345 non-null  object \n 7   experience              19093 non-null  object \n 8   company_size            13220 non-null  object \n 9   company_type            13018 non-null  object \n 10  last_new_job            18735 non-null  object \n 11  training_hours          19158 non-null  int64  \n 12  target                  19158 non-null  float64\ndtypes: float64(2), int64(2), object(9)\nmemory usage: 1.9+ MB\n"
     ]
    }
   ],
   "source": [
    "# Reheck Training Data\n",
    "training_df.info()"
   ]
  },
  {
   "cell_type": "code",
   "execution_count": 6,
   "metadata": {},
   "outputs": [
    {
     "output_type": "execute_result",
     "data": {
      "text/plain": [
       "         0.920  Female  Has relevent experience   \n",
       "19152        29754                   0.920  Female  Has relevent experience   \n",
       "19155        24576                   0.920    Male  Has relevent experience   \n",
       "\n",
       "      enrolled_university education_level major_discipline experience  \\\n",
       "1           no_enrollment        Graduate             STEM         15   \n",
       "4           no_enrollment         Masters             STEM        >20   \n",
       "7           no_enrollment        Graduate             STEM         13   \n",
       "8           no_enrollment        Graduate             STEM          7   \n",
       "11          no_enrollment        Graduate             STEM          5   \n",
       "...                   ...             ...              ...        ...   \n",
       "19147    Full time course        Graduate             STEM          1   \n",
       "19149       no_enrollment         Masters             STEM          9   \n",
       "19150       no_enrollment        Graduate             STEM         10   \n",
       "19152       no_enrollment        Graduate       Humanities          7   \n",
       "19155       no_enrollment        Graduate             STEM        >20   \n",
       "\n",
       "      company_size    company_type last_new_job  training_hours  target  \n",
       "1            50-99         Pvt Ltd           >4              47     0.0  \n",
       "4            50-99  Funded Startup            4               8     0.0  \n",
       "7              <10         Pvt Ltd           >4              18     1.0  \n",
       "8            50-99         Pvt Ltd            1              46     1.0  \n",
       "11       5000-9999         Pvt Ltd            1             108     0.0  \n",
       "...            ...             ...          ...             ...     ...  \n",
       "19147      100-500         Pvt Ltd            1              52     1.0  \n",
       "19149        50-99         Pvt Ltd            1              36     1.0  \n",
       "19150      100-500   Public Sector            3              23     0.0  \n",
       "19152        10/49  Funded Startup            1              25     0.0  \n",
       "19155        50-99         Pvt Ltd            4              44     0.0  \n",
       "\n",
       "[8955 rows x 13 columns]"
      ],
      "text/html": "<div>\n<style scoped>\n    .dataframe tbody tr th:only-of-type {\n        vertical-align: middle;\n    }\n\n    .dataframe tbody tr th {\n        vertical-align: top;\n    }\n\n    .dataframe thead th {\n        text-align: right;\n    }\n</style>\n<table border=\"1\" class=\"dataframe\">\n  <thead>\n    <tr style=\"text-align: right;\">\n      <th></th>\n      <th>enrollee_id</th>\n      <th>city_development_index</th>\n      <th>gender</th>\n      <th>relevent_experience</th>\n      <th>enrolled_university</th>\n      <th>education_level</th>\n      <th>major_discipline</th>\n      <th>experience</th>\n      <th>company_size</th>\n      <th>company_type</th>\n      <th>last_new_job</th>\n      <th>training_hours</th>\n      <th>target</th>\n    </tr>\n  </thead>\n  <tbody>\n    <tr>\n      <th>1</th>\n      <td>29725</td>\n      <td>0.776</td>\n      <td>Male</td>\n      <td>No relevent experience</td>\n      <td>no_enrollment</td>\n      <td>Graduate</td>\n      <td>STEM</td>\n      <td>15</td>\n      <td>50-99</td>\n      <td>Pvt Ltd</td>\n      <td>&gt;4</td>\n      <td>47</td>\n      <td>0.0</td>\n    </tr>\n    <tr>\n      <th>4</th>\n      <td>666</td>\n      <td>0.767</td>\n      <td>Male</td>\n      <td>Has relevent experience</td>\n      <td>no_enrollment</td>\n      <td>Masters</td>\n      <td>STEM</td>\n      <td>&gt;20</td>\n      <td>50-99</td>\n      <td>Funded Startup</td>\n      <td>4</td>\n      <td>8</td>\n      <td>0.0</td>\n    </tr>\n    <tr>\n      <th>7</th>\n      <td>402</td>\n      <td>0.762</td>\n      <td>Male</td>\n      <td>Has relevent experience</td>\n      <td>no_enrollment</td>\n      <td>Graduate</td>\n      <td>STEM</td>\n      <td>13</td>\n      <td>&lt;10</td>\n      <td>Pvt Ltd</td>\n      <td>&gt;4</td>\n      <td>18</td>\n      <td>1.0</td>\n    </tr>\n    <tr>\n      <th>8</th>\n      <td>27107</td>\n      <td>0.920</td>\n      <td>Male</td>\n      <td>Has relevent experience</td>\n      <td>no_enrollment</td>\n      <td>Graduate</td>\n      <td>STEM</td>\n      <td>7</td>\n      <td>50-99</td>\n      <td>Pvt Ltd</td>\n      <td>1</td>\n      <td>46</td>\n      <td>1.0</td>\n    </tr>\n    <tr>\n      <th>11</th>\n      <td>23853</td>\n      <td>0.920</td>\n      <td>Male</td>\n      <td>Has relevent experience</td>\n      <td>no_enrollment</td>\n      <td>Graduate</td>\n      <td>STEM</td>\n      <td>5</td>\n      <td>5000-9999</td>\n      <td>Pvt Ltd</td>\n      <td>1</td>\n      <td>108</td>\n      <td>0.0</td>\n    </tr>\n    <tr>\n      <th>...</th>\n      <td>...</td>\n      <td>...</td>\n      <td>...</td>\n      <td>...</td>\n      <td>...</td>\n      <td>...</td>\n      <td>...</td>\n      <td>...</td>\n      <td>...</td>\n      <td>...</td>\n      <td>...</td>\n      <td>...</td>\n      <td>...</td>\n    </tr>\n    <tr>\n      <th>19147</th>\n      <td>21319</td>\n      <td>0.624</td>\n      <td>Male</td>\n      <td>No relevent experience</td>\n      <td>Full time course</td>\n      <td>Graduate</td>\n      <td>STEM</td>\n      <td>1</td>\n      <td>100-500</td>\n      <td>Pvt Ltd</td>\n      <td>1</td>\n      <td>52</td>\n      <td>1.0</td>\n    </tr>\n    <tr>\n      <th>19149</th>\n      <td>251</td>\n      <td>0.920</td>\n      <td>Male</td>\n      <td>Has relevent experience</td>\n      <td>no_enrollment</td>\n      <td>Masters</td>\n      <td>STEM</td>\n      <td>9</td>\n      <td>50-99</td>\n      <td>Pvt Ltd</td>\n      <td>1</td>\n      <td>36</td>\n      <td>1.0</td>\n    </tr>\n    <tr>\n      <th>19150</th>\n      <td>32313</td>\n      <td>0.920</td>\n      <td>Female</td>\n      <td>Has relevent experience</td>\n      <td>no_enrollment</td>\n      <td>Graduate</td>\n      <td>STEM</td>\n      <td>10</td>\n      <td>100-500</td>\n      <td>Public Sector</td>\n      <td>3</td>\n      <td>23</td>\n      <td>0.0</td>\n    </tr>\n    <tr>\n      <th>19152</th>\n      <td>29754</td>\n      <td>0.920</td>\n      <td>Female</td>\n      <td>Has relevent experience</td>\n      <td>no_enrollment</td>\n      <td>Graduate</td>\n      <td>Humanities</td>\n      <td>7</td>\n      <td>10/49</td>\n      <td>Funded Startup</td>\n      <td>1</td>\n      <td>25</td>\n      <td>0.0</td>\n    </tr>\n    <tr>\n      <th>19155</th>\n      <td>24576</td>\n      <td>0.920</td>\n      <td>Male</td>\n      <td>Has relevent experience</td>\n      <td>no_enrollment</td>\n      <td>Graduate</td>\n      <td>STEM</td>\n      <td>&gt;20</td>\n      <td>50-99</td>\n      <td>Pvt Ltd</td>\n      <td>4</td>\n      <td>44</td>\n      <td>0.0</td>\n    </tr>\n  </tbody>\n</table>\n<p>8955 rows × 13 columns</p>\n</div>"
     },
     "metadata": {},
     "execution_count": 6
    }
   ],
   "source": [
    "# Drop Rows with NaN\n",
    "training_df = training_df.dropna()\n",
    "training_df"
   ]
  },
  {
   "cell_type": "code",
   "execution_count": 7,
   "metadata": {},
   "outputs": [
    {
     "output_type": "stream",
     "name": "stdout",
     "text": [
      "<class 'pandas.core.frame.DataFrame'>\nInt64Index: 8955 entries, 1 to 19155\nData columns (total 13 columns):\n #   Column                  Non-Null Count  Dtype  \n---  ------                  --------------  -----  \n 0   enrollee_id             8955 non-null   int64  \n 1   city_development_index  8955 non-null   float64\n 2   gender                  8955 non-null   object \n 3   relevent_experience     8955 non-null   object \n 4   enrolled_university     8955 non-null   object \n 5   education_level         8955 non-null   object \n 6   major_discipline        8955 non-null   object \n 7   experience              8955 non-null   object \n 8   company_size            8955 non-null   object \n 9   company_type            8955 non-null   object \n 10  last_new_job            8955 non-null   object \n 11  training_hours          8955 non-null   int64  \n 12  target                  8955 non-null   float64\ndtypes: float64(2), int64(2), object(9)\nmemory usage: 979.5+ KB\n"
     ]
    }
   ],
   "source": [
    "# Reheck Training Data\n",
    "training_df.info()"
   ]
  },
  {
   "cell_type": "code",
   "execution_count": 8,
   "metadata": {},
   "outputs": [
    {
     "output_type": "execute_result",
     "data": {
      "text/plain": [
       "nrolled_university education_level  \\\n",
       "0     Has relevent experience       no_enrollment        Graduate   \n",
       "1     Has relevent experience       no_enrollment        Graduate   \n",
       "2      No relevent experience       no_enrollment         Masters   \n",
       "3      No relevent experience       no_enrollment        Graduate   \n",
       "4     Has relevent experience       no_enrollment        Graduate   \n",
       "...                       ...                 ...             ...   \n",
       "2124  Has relevent experience       no_enrollment        Graduate   \n",
       "2125  Has relevent experience       no_enrollment        Graduate   \n",
       "2126   No relevent experience    Full time course        Graduate   \n",
       "2127   No relevent experience       no_enrollment        Graduate   \n",
       "2128  Has relevent experience       no_enrollment             NaN   \n",
       "\n",
       "     major_discipline experience company_size company_type last_new_job  \\\n",
       "0                STEM          5        50-99          NaN            2   \n",
       "1                STEM        >20          NaN          NaN           >4   \n",
       "2                STEM        >20      100-500      Pvt Ltd            2   \n",
       "3                STEM         14    1000-4999      Pvt Ltd          NaN   \n",
       "4                STEM          8       Oct-49      Pvt Ltd            1   \n",
       "...               ...        ...          ...          ...          ...   \n",
       "2124             STEM        >20    1000-4999      Pvt Ltd           >4   \n",
       "2125             STEM          9    1000-4999      Pvt Ltd            1   \n",
       "2126             STEM          5       Oct-49      Pvt Ltd            1   \n",
       "2127             STEM        >20          <10      Pvt Ltd           >4   \n",
       "2128              NaN        >20        50-99      Pvt Ltd            2   \n",
       "\n",
       "      training_hours  \n",
       "0                 18  \n",
       "1                  9  \n",
       "2                 62  \n",
       "3                 40  \n",
       "4                 78  \n",
       "...              ...  \n",
       "2124              40  \n",
       "2125              68  \n",
       "2126              21  \n",
       "2127              47  \n",
       "2128              79  \n",
       "\n",
       "[2129 rows x 13 columns]"
      ],
      "text/html": "<div>\n<style scoped>\n    .dataframe tbody tr th:only-of-type {\n        vertical-align: middle;\n    }\n\n    .dataframe tbody tr th {\n        vertical-align: top;\n    }\n\n    .dataframe thead th {\n        text-align: right;\n    }\n</style>\n<table border=\"1\" class=\"dataframe\">\n  <thead>\n    <tr style=\"text-align: right;\">\n      <th></th>\n      <th>enrollee_id</th>\n      <th>city</th>\n      <th>city_development_index</th>\n      <th>gender</th>\n      <th>relevent_experience</th>\n      <th>enrolled_university</th>\n      <th>education_level</th>\n      <th>major_discipline</th>\n      <th>experience</th>\n      <th>company_size</th>\n      <th>company_type</th>\n      <th>last_new_job</th>\n      <th>training_hours</th>\n    </tr>\n  </thead>\n  <tbody>\n    <tr>\n      <th>0</th>\n      <td>26581</td>\n      <td>city_1</td>\n      <td>0.847</td>\n      <td>Male</td>\n      <td>Has relevent experience</td>\n      <td>no_enrollment</td>\n      <td>Graduate</td>\n      <td>STEM</td>\n      <td>5</td>\n      <td>50-99</td>\n      <td>NaN</td>\n      <td>2</td>\n      <td>18</td>\n    </tr>\n    <tr>\n      <th>1</th>\n      <td>2610</td>\n      <td>city_1</td>\n      <td>0.847</td>\n      <td>Male</td>\n      <td>Has relevent experience</td>\n      <td>no_enrollment</td>\n      <td>Graduate</td>\n      <td>STEM</td>\n      <td>&gt;20</td>\n      <td>NaN</td>\n      <td>NaN</td>\n      <td>&gt;4</td>\n      <td>9</td>\n    </tr>\n    <tr>\n      <th>2</th>\n      <td>27463</td>\n      <td>city_10</td>\n      <td>0.895</td>\n      <td>NaN</td>\n      <td>No relevent experience</td>\n      <td>no_enrollment</td>\n      <td>Masters</td>\n      <td>STEM</td>\n      <td>&gt;20</td>\n      <td>100-500</td>\n      <td>Pvt Ltd</td>\n      <td>2</td>\n      <td>62</td>\n    </tr>\n    <tr>\n      <th>3</th>\n      <td>31483</td>\n      <td>city_10</td>\n      <td>0.895</td>\n      <td>NaN</td>\n      <td>No relevent experience</td>\n      <td>no_enrollment</td>\n      <td>Graduate</td>\n      <td>STEM</td>\n      <td>14</td>\n      <td>1000-4999</td>\n      <td>Pvt Ltd</td>\n      <td>NaN</td>\n      <td>40</td>\n    </tr>\n    <tr>\n      <th>4</th>\n      <td>11646</td>\n      <td>city_10</td>\n      <td>0.895</td>\n      <td>Male</td>\n      <td>Has relevent experience</td>\n      <td>no_enrollment</td>\n      <td>Graduate</td>\n      <td>STEM</td>\n      <td>8</td>\n      <td>Oct-49</td>\n      <td>Pvt Ltd</td>\n      <td>1</td>\n      <td>78</td>\n    </tr>\n    <tr>\n      <th>...</th>\n      <td>...</td>\n      <td>...</td>\n      <td>...</td>\n      <td>...</td>\n      <td>...</td>\n      <td>...</td>\n      <td>...</td>\n      <td>...</td>\n      <td>...</td>\n      <td>...</td>\n      <td>...</td>\n      <td>...</td>\n      <td>...</td>\n    </tr>\n    <tr>\n      <th>2124</th>\n      <td>29159</td>\n      <td>city_99</td>\n      <td>0.915</td>\n      <td>Male</td>\n      <td>Has relevent experience</td>\n      <td>no_enrollment</td>\n      <td>Graduate</td>\n      <td>STEM</td>\n      <td>&gt;20</td>\n      <td>1000-4999</td>\n      <td>Pvt Ltd</td>\n      <td>&gt;4</td>\n      <td>40</td>\n    </tr>\n    <tr>\n      <th>2125</th>\n      <td>8903</td>\n      <td>city_99</td>\n      <td>0.915</td>\n      <td>NaN</td>\n      <td>Has relevent experience</td>\n      <td>no_enrollment</td>\n      <td>Graduate</td>\n      <td>STEM</td>\n      <td>9</td>\n      <td>1000-4999</td>\n      <td>Pvt Ltd</td>\n      <td>1</td>\n      <td>68</td>\n    </tr>\n    <tr>\n      <th>2126</th>\n      <td>22342</td>\n      <td>city_99</td>\n      <td>0.915</td>\n      <td>Female</td>\n      <td>No relevent experience</td>\n      <td>Full time course</td>\n      <td>Graduate</td>\n      <td>STEM</td>\n      <td>5</td>\n      <td>Oct-49</td>\n      <td>Pvt Ltd</td>\n      <td>1</td>\n      <td>21</td>\n    </tr>\n    <tr>\n      <th>2127</th>\n      <td>28220</td>\n      <td>city_99</td>\n      <td>0.915</td>\n      <td>Male</td>\n      <td>No relevent experience</td>\n      <td>no_enrollment</td>\n      <td>Graduate</td>\n      <td>STEM</td>\n      <td>&gt;20</td>\n      <td>&lt;10</td>\n      <td>Pvt Ltd</td>\n      <td>&gt;4</td>\n      <td>47</td>\n    </tr>\n    <tr>\n      <th>2128</th>\n      <td>8837</td>\n      <td>city_99</td>\n      <td>0.915</td>\n      <td>NaN</td>\n      <td>Has relevent experience</td>\n      <td>no_enrollment</td>\n      <td>NaN</td>\n      <td>NaN</td>\n      <td>&gt;20</td>\n      <td>50-99</td>\n      <td>Pvt Ltd</td>\n      <td>2</td>\n      <td>79</td>\n    </tr>\n  </tbody>\n</table>\n<p>2129 rows × 13 columns</p>\n</div>"
     },
     "metadata": {},
     "execution_count": 8
    }
   ],
   "source": [
    "# Read in Testing Data\n",
    "testing_data = \"data/Testing.csv\"\n",
    "testing_df = pd.read_csv(testing_data)\n",
    "testing_df"
   ]
  },
  {
   "cell_type": "code",
   "execution_count": 9,
   "metadata": {},
   "outputs": [
    {
     "output_type": "stream",
     "name": "stdout",
     "text": [
      "<class 'pandas.core.frame.DataFrame'>\nRangeIndex: 2129 entries, 0 to 2128\nData columns (total 13 columns):\n #   Column                  Non-Null Count  Dtype  \n---  ------                  --------------  -----  \n 0   enrollee_id             2129 non-null   int64  \n 1   city                    2129 non-null   object \n 2   city_development_index  2129 non-null   float64\n 3   gender                  1621 non-null   object \n 4   relevent_experience     2129 non-null   object \n 5   enrolled_university     2098 non-null   object \n 6   education_level         2077 non-null   object \n 7   major_discipline        1817 non-null   object \n 8   experience              2124 non-null   object \n 9   company_size            1507 non-null   object \n 10  company_type            1495 non-null   object \n 11  last_new_job            2089 non-null   object \n 12  training_hours          2129 non-null   int64  \ndtypes: float64(1), int64(2), object(10)\nmemory usage: 216.4+ KB\n"
     ]
    }
   ],
   "source": [
    "# Check Testing Data\n",
    "testing_df.info()"
   ]
  },
  {
   "cell_type": "code",
   "execution_count": 10,
   "metadata": {},
   "outputs": [
    {
     "output_type": "execute_result",
     "data": {
      "text/plain": [
       "           0.915    Male  Has relevent experience   \n",
       "2125         8903                   0.915     NaN  Has relevent experience   \n",
       "2126        22342                   0.915  Female   No relevent experience   \n",
       "2127        28220                   0.915    Male   No relevent experience   \n",
       "2128         8837                   0.915     NaN  Has relevent experience   \n",
       "\n",
       "     enrolled_university education_level major_discipline experience  \\\n",
       "0          no_enrollment        Graduate             STEM          5   \n",
       "1          no_enrollment        Graduate             STEM        >20   \n",
       "2          no_enrollment         Masters             STEM        >20   \n",
       "3          no_enrollment        Graduate             STEM         14   \n",
       "4          no_enrollment        Graduate             STEM          8   \n",
       "...                  ...             ...              ...        ...   \n",
       "2124       no_enrollment        Graduate             STEM        >20   \n",
       "2125       no_enrollment        Graduate             STEM          9   \n",
       "2126    Full time course        Graduate             STEM          5   \n",
       "2127       no_enrollment        Graduate             STEM        >20   \n",
       "2128       no_enrollment             NaN              NaN        >20   \n",
       "\n",
       "     company_size company_type last_new_job  training_hours  \n",
       "0           50-99          NaN            2              18  \n",
       "1             NaN          NaN           >4               9  \n",
       "2         100-500      Pvt Ltd            2              62  \n",
       "3       1000-4999      Pvt Ltd          NaN              40  \n",
       "4          Oct-49      Pvt Ltd            1              78  \n",
       "...           ...          ...          ...             ...  \n",
       "2124    1000-4999      Pvt Ltd           >4              40  \n",
       "2125    1000-4999      Pvt Ltd            1              68  \n",
       "2126       Oct-49      Pvt Ltd            1              21  \n",
       "2127          <10      Pvt Ltd           >4              47  \n",
       "2128        50-99      Pvt Ltd            2              79  \n",
       "\n",
       "[2129 rows x 12 columns]"
      ],
      "text/html": "<div>\n<style scoped>\n    .dataframe tbody tr th:only-of-type {\n        vertical-align: middle;\n    }\n\n    .dataframe tbody tr th {\n        vertical-align: top;\n    }\n\n    .dataframe thead th {\n        text-align: right;\n    }\n</style>\n<table border=\"1\" class=\"dataframe\">\n  <thead>\n    <tr style=\"text-align: right;\">\n      <th></th>\n      <th>enrollee_id</th>\n      <th>city_development_index</th>\n      <th>gender</th>\n      <th>relevent_experience</th>\n      <th>enrolled_university</th>\n      <th>education_level</th>\n      <th>major_discipline</th>\n      <th>experience</th>\n      <th>company_size</th>\n      <th>company_type</th>\n      <th>last_new_job</th>\n      <th>training_hours</th>\n    </tr>\n  </thead>\n  <tbody>\n    <tr>\n      <th>0</th>\n      <td>26581</td>\n      <td>0.847</td>\n      <td>Male</td>\n      <td>Has relevent experience</td>\n      <td>no_enrollment</td>\n      <td>Graduate</td>\n      <td>STEM</td>\n      <td>5</td>\n      <td>50-99</td>\n      <td>NaN</td>\n      <td>2</td>\n      <td>18</td>\n    </tr>\n    <tr>\n      <th>1</th>\n      <td>2610</td>\n      <td>0.847</td>\n      <td>Male</td>\n      <td>Has relevent experience</td>\n      <td>no_enrollment</td>\n      <td>Graduate</td>\n      <td>STEM</td>\n      <td>&gt;20</td>\n      <td>NaN</td>\n      <td>NaN</td>\n      <td>&gt;4</td>\n      <td>9</td>\n    </tr>\n    <tr>\n      <th>2</th>\n      <td>27463</td>\n      <td>0.895</td>\n      <td>NaN</td>\n      <td>No relevent experience</td>\n      <td>no_enrollment</td>\n      <td>Masters</td>\n      <td>STEM</td>\n      <td>&gt;20</td>\n      <td>100-500</td>\n      <td>Pvt Ltd</td>\n      <td>2</td>\n      <td>62</td>\n    </tr>\n    <tr>\n      <th>3</th>\n      <td>31483</td>\n      <td>0.895</td>\n      <td>NaN</td>\n      <td>No relevent experience</td>\n      <td>no_enrollment</td>\n      <td>Graduate</td>\n      <td>STEM</td>\n      <td>14</td>\n      <td>1000-4999</td>\n      <td>Pvt Ltd</td>\n      <td>NaN</td>\n      <td>40</td>\n    </tr>\n    <tr>\n      <th>4</th>\n      <td>11646</td>\n      <td>0.895</td>\n      <td>Male</td>\n      <td>Has relevent experience</td>\n      <td>no_enrollment</td>\n      <td>Graduate</td>\n      <td>STEM</td>\n      <td>8</td>\n      <td>Oct-49</td>\n      <td>Pvt Ltd</td>\n      <td>1</td>\n      <td>78</td>\n    </tr>\n    <tr>\n      <th>...</th>\n      <td>...</td>\n      <td>...</td>\n      <td>...</td>\n      <td>...</td>\n      <td>...</td>\n      <td>...</td>\n      <td>...</td>\n      <td>...</td>\n      <td>...</td>\n      <td>...</td>\n      <td>...</td>\n      <td>...</td>\n    </tr>\n    <tr>\n      <th>2124</th>\n      <td>29159</td>\n      <td>0.915</td>\n      <td>Male</td>\n      <td>Has relevent experience</td>\n      <td>no_enrollment</td>\n      <td>Graduate</td>\n      <td>STEM</td>\n      <td>&gt;20</td>\n      <td>1000-4999</td>\n      <td>Pvt Ltd</td>\n      <td>&gt;4</td>\n      <td>40</td>\n    </tr>\n    <tr>\n      <th>2125</th>\n      <td>8903</td>\n      <td>0.915</td>\n      <td>NaN</td>\n      <td>Has relevent experience</td>\n      <td>no_enrollment</td>\n      <td>Graduate</td>\n      <td>STEM</td>\n      <td>9</td>\n      <td>1000-4999</td>\n      <td>Pvt Ltd</td>\n      <td>1</td>\n      <td>68</td>\n    </tr>\n    <tr>\n      <th>2126</th>\n      <td>22342</td>\n      <td>0.915</td>\n      <td>Female</td>\n      <td>No relevent experience</td>\n      <td>Full time course</td>\n      <td>Graduate</td>\n      <td>STEM</td>\n      <td>5</td>\n      <td>Oct-49</td>\n      <td>Pvt Ltd</td>\n      <td>1</td>\n      <td>21</td>\n    </tr>\n    <tr>\n      <th>2127</th>\n      <td>28220</td>\n      <td>0.915</td>\n      <td>Male</td>\n      <td>No relevent experience</td>\n      <td>no_enrollment</td>\n      <td>Graduate</td>\n      <td>STEM</td>\n      <td>&gt;20</td>\n      <td>&lt;10</td>\n      <td>Pvt Ltd</td>\n      <td>&gt;4</td>\n      <td>47</td>\n    </tr>\n    <tr>\n      <th>2128</th>\n      <td>8837</td>\n      <td>0.915</td>\n      <td>NaN</td>\n      <td>Has relevent experience</td>\n      <td>no_enrollment</td>\n      <td>NaN</td>\n      <td>NaN</td>\n      <td>&gt;20</td>\n      <td>50-99</td>\n      <td>Pvt Ltd</td>\n      <td>2</td>\n      <td>79</td>\n    </tr>\n  </tbody>\n</table>\n<p>2129 rows × 12 columns</p>\n</div>"
     },
     "metadata": {},
     "execution_count": 10
    }
   ],
   "source": [
    "# Remove City Column\n",
    "testing_df.drop('city', axis = 'columns', inplace=True)\n",
    "testing_df"
   ]
  },
  {
   "cell_type": "code",
   "execution_count": 11,
   "metadata": {},
   "outputs": [
    {
     "output_type": "stream",
     "name": "stdout",
     "text": [
      "<class 'pandas.core.frame.DataFrame'>\nRangeIndex: 2129 entries, 0 to 2128\nData columns (total 12 columns):\n #   Column                  Non-Null Count  Dtype  \n---  ------                  --------------  -----  \n 0   enrollee_id             2129 non-null   int64  \n 1   city_development_index  2129 non-null   float64\n 2   gender                  1621 non-null   object \n 3   relevent_experience     2129 non-null   object \n 4   enrolled_university     2098 non-null   object \n 5   education_level         2077 non-null   object \n 6   major_discipline        1817 non-null   object \n 7   experience              2124 non-null   object \n 8   company_size            1507 non-null   object \n 9   company_type            1495 non-null   object \n 10  last_new_job            2089 non-null   object \n 11  training_hours          2129 non-null   int64  \ndtypes: float64(1), int64(2), object(9)\nmemory usage: 199.7+ KB\n"
     ]
    }
   ],
   "source": [
    "# Recheck Testing Data\n",
    "testing_df.info()"
   ]
  },
  {
   "cell_type": "code",
   "execution_count": 12,
   "metadata": {},
   "outputs": [
    {
     "output_type": "execute_result",
     "data": {
      "text/plain": [
       "Female  Has relevent experience   \n",
       "2124        29159                   0.915    Male  Has relevent experience   \n",
       "2126        22342                   0.915  Female   No relevent experience   \n",
       "2127        28220                   0.915    Male   No relevent experience   \n",
       "\n",
       "     enrolled_university education_level major_discipline experience  \\\n",
       "4          no_enrollment        Graduate             STEM          8   \n",
       "7          no_enrollment        Graduate            Other          8   \n",
       "8       Full time course         Masters             STEM        >20   \n",
       "24         no_enrollment        Graduate             STEM         17   \n",
       "31         no_enrollment         Masters             STEM         14   \n",
       "...                  ...             ...              ...        ...   \n",
       "2122       no_enrollment        Graduate             STEM          7   \n",
       "2123       no_enrollment         Masters             STEM        >20   \n",
       "2124       no_enrollment        Graduate             STEM        >20   \n",
       "2126    Full time course        Graduate             STEM          5   \n",
       "2127       no_enrollment        Graduate             STEM        >20   \n",
       "\n",
       "     company_size         company_type last_new_job  training_hours  \n",
       "4          Oct-49              Pvt Ltd            1              78  \n",
       "7           50-99  Early Stage Startup            1              10  \n",
       "8       1000-4999        Public Sector           >4              90  \n",
       "24        100-500              Pvt Ltd           >4               9  \n",
       "31        100-500              Pvt Ltd            4             144  \n",
       "...           ...                  ...          ...             ...  \n",
       "2122       Oct-49              Pvt Ltd           >4               6  \n",
       "2123      100-500              Pvt Ltd            1              29  \n",
       "2124    1000-4999              Pvt Ltd           >4              40  \n",
       "2126       Oct-49              Pvt Ltd            1              21  \n",
       "2127          <10              Pvt Ltd           >4              47  \n",
       "\n",
       "[1019 rows x 12 columns]"
      ],
      "text/html": "<div>\n<style scoped>\n    .dataframe tbody tr th:only-of-type {\n        vertical-align: middle;\n    }\n\n    .dataframe tbody tr th {\n        vertical-align: top;\n    }\n\n    .dataframe thead th {\n        text-align: right;\n    }\n</style>\n<table border=\"1\" class=\"dataframe\">\n  <thead>\n    <tr style=\"text-align: right;\">\n      <th></th>\n      <th>enrollee_id</th>\n      <th>city_development_index</th>\n      <th>gender</th>\n      <th>relevent_experience</th>\n      <th>enrolled_university</th>\n      <th>education_level</th>\n      <th>major_discipline</th>\n      <th>experience</th>\n      <th>company_size</th>\n      <th>company_type</th>\n      <th>last_new_job</th>\n      <th>training_hours</th>\n    </tr>\n  </thead>\n  <tbody>\n    <tr>\n      <th>4</th>\n      <td>11646</td>\n      <td>0.895</td>\n      <td>Male</td>\n      <td>Has relevent experience</td>\n      <td>no_enrollment</td>\n      <td>Graduate</td>\n      <td>STEM</td>\n      <td>8</td>\n      <td>Oct-49</td>\n      <td>Pvt Ltd</td>\n      <td>1</td>\n      <td>78</td>\n    </tr>\n    <tr>\n      <th>7</th>\n      <td>22870</td>\n      <td>0.895</td>\n      <td>Male</td>\n      <td>Has relevent experience</td>\n      <td>no_enrollment</td>\n      <td>Graduate</td>\n      <td>Other</td>\n      <td>8</td>\n      <td>50-99</td>\n      <td>Early Stage Startup</td>\n      <td>1</td>\n      <td>10</td>\n    </tr>\n    <tr>\n      <th>8</th>\n      <td>16955</td>\n      <td>0.895</td>\n      <td>Male</td>\n      <td>Has relevent experience</td>\n      <td>Full time course</td>\n      <td>Masters</td>\n      <td>STEM</td>\n      <td>&gt;20</td>\n      <td>1000-4999</td>\n      <td>Public Sector</td>\n      <td>&gt;4</td>\n      <td>90</td>\n    </tr>\n    <tr>\n      <th>24</th>\n      <td>29341</td>\n      <td>0.887</td>\n      <td>Female</td>\n      <td>Has relevent experience</td>\n      <td>no_enrollment</td>\n      <td>Graduate</td>\n      <td>STEM</td>\n      <td>17</td>\n      <td>100-500</td>\n      <td>Pvt Ltd</td>\n      <td>&gt;4</td>\n      <td>9</td>\n    </tr>\n    <tr>\n      <th>31</th>\n      <td>19744</td>\n      <td>0.887</td>\n      <td>Male</td>\n      <td>Has relevent experience</td>\n      <td>no_enrollment</td>\n      <td>Masters</td>\n      <td>STEM</td>\n      <td>14</td>\n      <td>100-500</td>\n      <td>Pvt Ltd</td>\n      <td>4</td>\n      <td>144</td>\n    </tr>\n    <tr>\n      <th>...</th>\n      <td>...</td>\n      <td>...</td>\n      <td>...</td>\n      <td>...</td>\n      <td>...</td>\n      <td>...</td>\n      <td>...</td>\n      <td>...</td>\n      <td>...</td>\n      <td>...</td>\n      <td>...</td>\n      <td>...</td>\n    </tr>\n    <tr>\n      <th>2122</th>\n      <td>25866</td>\n      <td>0.915</td>\n      <td>Male</td>\n      <td>Has relevent experience</td>\n      <td>no_enrollment</td>\n      <td>Graduate</td>\n      <td>STEM</td>\n      <td>7</td>\n      <td>Oct-49</td>\n      <td>Pvt Ltd</td>\n      <td>&gt;4</td>\n      <td>6</td>\n    </tr>\n    <tr>\n      <th>2123</th>\n      <td>5509</td>\n      <td>0.915</td>\n      <td>Female</td>\n      <td>Has relevent experience</td>\n      <td>no_enrollment</td>\n      <td>Masters</td>\n      <td>STEM</td>\n      <td>&gt;20</td>\n      <td>100-500</td>\n      <td>Pvt Ltd</td>\n      <td>1</td>\n      <td>29</td>\n    </tr>\n    <tr>\n      <th>2124</th>\n      <td>29159</td>\n      <td>0.915</td>\n      <td>Male</td>\n      <td>Has relevent experience</td>\n      <td>no_enrollment</td>\n      <td>Graduate</td>\n      <td>STEM</td>\n      <td>&gt;20</td>\n      <td>1000-4999</td>\n      <td>Pvt Ltd</td>\n      <td>&gt;4</td>\n      <td>40</td>\n    </tr>\n    <tr>\n      <th>2126</th>\n      <td>22342</td>\n      <td>0.915</td>\n      <td>Female</td>\n      <td>No relevent experience</td>\n      <td>Full time course</td>\n      <td>Graduate</td>\n      <td>STEM</td>\n      <td>5</td>\n      <td>Oct-49</td>\n      <td>Pvt Ltd</td>\n      <td>1</td>\n      <td>21</td>\n    </tr>\n    <tr>\n      <th>2127</th>\n      <td>28220</td>\n      <td>0.915</td>\n      <td>Male</td>\n      <td>No relevent experience</td>\n      <td>no_enrollment</td>\n      <td>Graduate</td>\n      <td>STEM</td>\n      <td>&gt;20</td>\n      <td>&lt;10</td>\n      <td>Pvt Ltd</td>\n      <td>&gt;4</td>\n      <td>47</td>\n    </tr>\n  </tbody>\n</table>\n<p>1019 rows × 12 columns</p>\n</div>"
     },
     "metadata": {},
     "execution_count": 12
    }
   ],
   "source": [
    "# Drop Rows with NaN\n",
    "testing_df = testing_df.dropna()\n",
    "testing_df"
   ]
  },
  {
   "cell_type": "code",
   "execution_count": 13,
   "metadata": {},
   "outputs": [
    {
     "output_type": "stream",
     "name": "stdout",
     "text": [
      "<class 'pandas.core.frame.DataFrame'>\nInt64Index: 1019 entries, 4 to 2127\nData columns (total 12 columns):\n #   Column                  Non-Null Count  Dtype  \n---  ------                  --------------  -----  \n 0   enrollee_id             1019 non-null   int64  \n 1   city_development_index  1019 non-null   float64\n 2   gender                  1019 non-null   object \n 3   relevent_experience     1019 non-null   object \n 4   enrolled_university     1019 non-null   object \n 5   education_level         1019 non-null   object \n 6   major_discipline        1019 non-null   object \n 7   experience              1019 non-null   object \n 8   company_size            1019 non-null   object \n 9   company_type            1019 non-null   object \n 10  last_new_job            1019 non-null   object \n 11  training_hours          1019 non-null   int64  \ndtypes: float64(1), int64(2), object(9)\nmemory usage: 103.5+ KB\n"
     ]
    }
   ],
   "source": [
    "# Recheck Testing Data\n",
    "testing_df.info()"
   ]
  },
  {
   "cell_type": "code",
   "execution_count": 20,
   "metadata": {},
   "outputs": [
    {
     "output_type": "execute_result",
     "data": {
      "text/plain": [
       "124        29159                   0.915    Male  Has relevent experience   \n",
       "2126        22342                   0.915  Female   No relevent experience   \n",
       "2127        28220                   0.915    Male   No relevent experience   \n",
       "\n",
       "     enrolled_university education_level major_discipline experience  \\\n",
       "1          no_enrollment        Graduate             STEM         15   \n",
       "4          no_enrollment         Masters             STEM        >20   \n",
       "7          no_enrollment        Graduate             STEM         13   \n",
       "8          no_enrollment        Graduate             STEM          7   \n",
       "11         no_enrollment        Graduate             STEM          5   \n",
       "...                  ...             ...              ...        ...   \n",
       "2122       no_enrollment        Graduate             STEM          7   \n",
       "2123       no_enrollment         Masters             STEM        >20   \n",
       "2124       no_enrollment        Graduate             STEM        >20   \n",
       "2126    Full time course        Graduate             STEM          5   \n",
       "2127       no_enrollment        Graduate             STEM        >20   \n",
       "\n",
       "     company_size    company_type last_new_job  training_hours  target  \n",
       "1           50-99         Pvt Ltd           >4              47     0.0  \n",
       "4           50-99  Funded Startup            4               8     0.0  \n",
       "7             <10         Pvt Ltd           >4              18     1.0  \n",
       "8           50-99         Pvt Ltd            1              46     1.0  \n",
       "11      5000-9999         Pvt Ltd            1             108     0.0  \n",
       "...           ...             ...          ...             ...     ...  \n",
       "2122       Oct-49         Pvt Ltd           >4               6     NaN  \n",
       "2123      100-500         Pvt Ltd            1              29     NaN  \n",
       "2124    1000-4999         Pvt Ltd           >4              40     NaN  \n",
       "2126       Oct-49         Pvt Ltd            1              21     NaN  \n",
       "2127          <10         Pvt Ltd           >4              47     NaN  \n",
       "\n",
       "[9974 rows x 13 columns]"
      ],
      "text/html": "<div>\n<style scoped>\n    .dataframe tbody tr th:only-of-type {\n        vertical-align: middle;\n    }\n\n    .dataframe tbody tr th {\n        vertical-align: top;\n    }\n\n    .dataframe thead th {\n        text-align: right;\n    }\n</style>\n<table border=\"1\" class=\"dataframe\">\n  <thead>\n    <tr style=\"text-align: right;\">\n      <th></th>\n      <th>enrollee_id</th>\n      <th>city_development_index</th>\n      <th>gender</th>\n      <th>relevent_experience</th>\n      <th>enrolled_university</th>\n      <th>education_level</th>\n      <th>major_discipline</th>\n      <th>experience</th>\n      <th>company_size</th>\n      <th>company_type</th>\n      <th>last_new_job</th>\n      <th>training_hours</th>\n      <th>target</th>\n    </tr>\n  </thead>\n  <tbody>\n    <tr>\n      <th>1</th>\n      <td>29725</td>\n      <td>0.776</td>\n      <td>Male</td>\n      <td>No relevent experience</td>\n      <td>no_enrollment</td>\n      <td>Graduate</td>\n      <td>STEM</td>\n      <td>15</td>\n      <td>50-99</td>\n      <td>Pvt Ltd</td>\n      <td>&gt;4</td>\n      <td>47</td>\n      <td>0.0</td>\n    </tr>\n    <tr>\n      <th>4</th>\n      <td>666</td>\n      <td>0.767</td>\n      <td>Male</td>\n      <td>Has relevent experience</td>\n      <td>no_enrollment</td>\n      <td>Masters</td>\n      <td>STEM</td>\n      <td>&gt;20</td>\n      <td>50-99</td>\n      <td>Funded Startup</td>\n      <td>4</td>\n      <td>8</td>\n      <td>0.0</td>\n    </tr>\n    <tr>\n      <th>7</th>\n      <td>402</td>\n      <td>0.762</td>\n      <td>Male</td>\n      <td>Has relevent experience</td>\n      <td>no_enrollment</td>\n      <td>Graduate</td>\n      <td>STEM</td>\n      <td>13</td>\n      <td>&lt;10</td>\n      <td>Pvt Ltd</td>\n      <td>&gt;4</td>\n      <td>18</td>\n      <td>1.0</td>\n    </tr>\n    <tr>\n      <th>8</th>\n      <td>27107</td>\n      <td>0.920</td>\n      <td>Male</td>\n      <td>Has relevent experience</td>\n      <td>no_enrollment</td>\n      <td>Graduate</td>\n      <td>STEM</td>\n      <td>7</td>\n      <td>50-99</td>\n      <td>Pvt Ltd</td>\n      <td>1</td>\n      <td>46</td>\n      <td>1.0</td>\n    </tr>\n    <tr>\n      <th>11</th>\n      <td>23853</td>\n      <td>0.920</td>\n      <td>Male</td>\n      <td>Has relevent experience</td>\n      <td>no_enrollment</td>\n      <td>Graduate</td>\n      <td>STEM</td>\n      <td>5</td>\n      <td>5000-9999</td>\n      <td>Pvt Ltd</td>\n      <td>1</td>\n      <td>108</td>\n      <td>0.0</td>\n    </tr>\n    <tr>\n      <th>...</th>\n      <td>...</td>\n      <td>...</td>\n      <td>...</td>\n      <td>...</td>\n      <td>...</td>\n      <td>...</td>\n      <td>...</td>\n      <td>...</td>\n      <td>...</td>\n      <td>...</td>\n      <td>...</td>\n      <td>...</td>\n      <td>...</td>\n    </tr>\n    <tr>\n      <th>2122</th>\n      <td>25866</td>\n      <td>0.915</td>\n      <td>Male</td>\n      <td>Has relevent experience</td>\n      <td>no_enrollment</td>\n      <td>Graduate</td>\n      <td>STEM</td>\n      <td>7</td>\n      <td>Oct-49</td>\n      <td>Pvt Ltd</td>\n      <td>&gt;4</td>\n      <td>6</td>\n      <td>NaN</td>\n    </tr>\n    <tr>\n      <th>2123</th>\n      <td>5509</td>\n      <td>0.915</td>\n      <td>Female</td>\n      <td>Has relevent experience</td>\n      <td>no_enrollment</td>\n      <td>Masters</td>\n      <td>STEM</td>\n      <td>&gt;20</td>\n      <td>100-500</td>\n      <td>Pvt Ltd</td>\n      <td>1</td>\n      <td>29</td>\n      <td>NaN</td>\n    </tr>\n    <tr>\n      <th>2124</th>\n      <td>29159</td>\n      <td>0.915</td>\n      <td>Male</td>\n      <td>Has relevent experience</td>\n      <td>no_enrollment</td>\n      <td>Graduate</td>\n      <td>STEM</td>\n      <td>&gt;20</td>\n      <td>1000-4999</td>\n      <td>Pvt Ltd</td>\n      <td>&gt;4</td>\n      <td>40</td>\n      <td>NaN</td>\n    </tr>\n    <tr>\n      <th>2126</th>\n      <td>22342</td>\n      <td>0.915</td>\n      <td>Female</td>\n      <td>No relevent experience</td>\n      <td>Full time course</td>\n      <td>Graduate</td>\n      <td>STEM</td>\n      <td>5</td>\n      <td>Oct-49</td>\n      <td>Pvt Ltd</td>\n      <td>1</td>\n      <td>21</td>\n      <td>NaN</td>\n    </tr>\n    <tr>\n      <th>2127</th>\n      <td>28220</td>\n      <td>0.915</td>\n      <td>Male</td>\n      <td>No relevent experience</td>\n      <td>no_enrollment</td>\n      <td>Graduate</td>\n      <td>STEM</td>\n      <td>&gt;20</td>\n      <td>&lt;10</td>\n      <td>Pvt Ltd</td>\n      <td>&gt;4</td>\n      <td>47</td>\n      <td>NaN</td>\n    </tr>\n  </tbody>\n</table>\n<p>9974 rows × 13 columns</p>\n</div>"
     },
     "metadata": {},
     "execution_count": 20
    }
   ],
   "source": [
    "# Merge dataframes\n",
    "dsjs_df = pd.concat([training_df, testing_df],0)\n",
    "dsjs_df"
   ]
  },
  {
   "cell_type": "code",
   "execution_count": 21,
   "metadata": {},
   "outputs": [
    {
     "output_type": "stream",
     "name": "stdout",
     "text": [
      "<class 'pandas.core.frame.DataFrame'>\nInt64Index: 9974 entries, 1 to 2127\nData columns (total 13 columns):\n #   Column                  Non-Null Count  Dtype  \n---  ------                  --------------  -----  \n 0   enrollee_id             9974 non-null   int64  \n 1   city_development_index  9974 non-null   float64\n 2   gender                  9974 non-null   object \n 3   relevent_experience     9974 non-null   object \n 4   enrolled_university     9974 non-null   object \n 5   education_level         9974 non-null   object \n 6   major_discipline        9974 non-null   object \n 7   experience              9974 non-null   object \n 8   company_size            9974 non-null   object \n 9   company_type            9974 non-null   object \n 10  last_new_job            9974 non-null   object \n 11  training_hours          9974 non-null   int64  \n 12  target                  8955 non-null   float64\ndtypes: float64(2), int64(2), object(9)\nmemory usage: 1.4+ MB\n"
     ]
    }
   ],
   "source": [
    "# Recheck Testing Data\n",
    "dsjs_df.info()"
   ]
  }
 ],
 "metadata": {
  "kernelspec": {
   "display_name": "Python 3",
   "language": "python",
   "name": "python3"
  },
  "language_info": {
   "codemirror_mode": {
    "name": "ipython",
    "version": 3
   },
   "file_extension": ".py",
   "mimetype": "text/x-python",
   "name": "python",
   "nbconvert_exporter": "python",
   "pygments_lexer": "ipython3",
   "version": "3.7.9-final"
  }
 },
 "nbformat": 4,
 "nbformat_minor": 2
}